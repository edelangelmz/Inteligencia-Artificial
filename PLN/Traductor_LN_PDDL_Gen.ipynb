{
  "nbformat": 4,
  "nbformat_minor": 0,
  "metadata": {
    "colab": {
      "provenance": [],
      "collapsed_sections": [],
      "authorship_tag": "ABX9TyNCDgwOr2BMVyKvx6Nj6eX1",
      "include_colab_link": true
    },
    "kernelspec": {
      "name": "python3",
      "display_name": "Python 3"
    },
    "language_info": {
      "name": "python"
    },
    "gpuClass": "standard"
  },
  "cells": [
    {
      "cell_type": "markdown",
      "metadata": {
        "id": "view-in-github",
        "colab_type": "text"
      },
      "source": [
        "<a href=\"https://colab.research.google.com/github/edelangelmz/Inteligencia-Artificial/blob/main/PLN/Traductor_LN_PDDL_Gen.ipynb\" target=\"_parent\"><img src=\"https://colab.research.google.com/assets/colab-badge.svg\" alt=\"Open In Colab\"/></a>"
      ]
    },
    {
      "cell_type": "markdown",
      "source": [
        "Lectura del dataset"
      ],
      "metadata": {
        "id": "7ZYZSwik5D11"
      }
    },
    {
      "cell_type": "code",
      "execution_count": 276,
      "metadata": {
        "id": "Df0NuSN6UEA8",
        "colab": {
          "base_uri": "https://localhost:8080/"
        },
        "outputId": "64de23ed-e6fb-4df4-b74b-3ee178c41ec3"
      },
      "outputs": [
        {
          "output_type": "stream",
          "name": "stdout",
          "text": [
            "Drive already mounted at /content/drive; to attempt to forcibly remount, call drive.mount(\"/content/drive\", force_remount=True).\n"
          ]
        }
      ],
      "source": [
        "from google.colab import drive\n",
        "\n",
        "drive.mount('/content/drive')"
      ]
    },
    {
      "cell_type": "code",
      "source": [
        "filename = '/content/drive/My Drive/Colab Notebooks/Datasets/LN2PDDL.txt'\n",
        "\n",
        "with open(filename) as file:\n",
        "  dataset = file.readlines()\n",
        "\n",
        "  print(len(dataset))\n",
        "  print(dataset[7])"
      ],
      "metadata": {
        "colab": {
          "base_uri": "https://localhost:8080/"
        },
        "id": "-akjHeVWY_0A",
        "outputId": "fbf3d362-bdc3-4066-ec09-2dacf2f892d2"
      },
      "execution_count": 277,
      "outputs": [
        {
          "output_type": "stream",
          "name": "stdout",
          "text": [
            "1005\n",
            "ambulancia se encuentra en\tambulancia-en-localizacion\n",
            "\n"
          ]
        }
      ]
    },
    {
      "cell_type": "code",
      "source": [
        "# Preprocesamiento de los datos\n",
        "def preprocess_text(text):\n",
        "  text = text.replace('\\n', '')\n",
        "  text = text.replace('á', 'a')\n",
        "  text = text.replace('é', 'e')\n",
        "  text = text.replace('í', 'i')\n",
        "  text = text.replace('ó', 'o')\n",
        "  text = text.replace('ú', 'u')\n",
        "  text = text.replace(',', '')\n",
        "\n",
        "  return text\n",
        "\n",
        "def preprocess_code_input(code):\n",
        "  code = code.replace('\\n', '')\n",
        "  code = code.replace('é', 'e')\n",
        "  code = code.replace('í', 'i')\n",
        "  code = code.replace('ó', 'o')\n",
        "  code = code.replace('á', 'a')\n",
        "  code = code.replace('ú', 'u')\n",
        "  code = code.replace(',', '')\n",
        "  code = code.replace('-', ' - ')\n",
        "  code = code.replace('  ', ' ')\n",
        "\n",
        "  return code\n",
        "\n",
        "def preprocess_code_output(code):\n",
        "  code = code.replace(' - ', '-')\n",
        "  code = code.replace('\\n', '')\n",
        "\n",
        "  return code"
      ],
      "metadata": {
        "id": "iNm9Ck0BLRag"
      },
      "execution_count": 278,
      "outputs": []
    },
    {
      "cell_type": "code",
      "source": [
        "# Crear 'tokens'\n",
        "source_tokens = []\n",
        "target_tokens = []\n",
        "\n",
        "# Extracción del dataset\n",
        "for element in dataset:\n",
        "  element = element.split('\\t')\n",
        "  element[0] = preprocess_text(element[0])\n",
        "  element[1] = preprocess_code_output(element[1])\n",
        "  source_tokens.append(element[0].split(' '))\n",
        "  target_tokens.append(element[1].split(' '))\n",
        "\n",
        "print(source_tokens[7])\n",
        "print(target_tokens[7])"
      ],
      "metadata": {
        "colab": {
          "base_uri": "https://localhost:8080/"
        },
        "id": "4t6w-1-phojo",
        "outputId": "f7780623-e513-4c34-ee9e-853a0110421f"
      },
      "execution_count": 279,
      "outputs": [
        {
          "output_type": "stream",
          "name": "stdout",
          "text": [
            "['ambulancia', 'se', 'encuentra', 'en']\n",
            "['ambulancia-en-localizacion']\n"
          ]
        }
      ]
    },
    {
      "cell_type": "code",
      "source": [
        "def build_token_dict(token_list):\n",
        "  token_dict = {\n",
        "      '<PAD>': 0,\n",
        "      '<START>': 1,\n",
        "      '<END>': 2\n",
        "  }\n",
        "\n",
        "  for tokens in token_list:\n",
        "    for token in tokens:\n",
        "      if token not in token_dict:\n",
        "        token_dict[token] = len(token_dict)\n",
        "\n",
        "  return token_dict"
      ],
      "metadata": {
        "id": "SYsmp2OLcsGa"
      },
      "execution_count": 280,
      "outputs": []
    },
    {
      "cell_type": "code",
      "source": [
        "source_token_dict = build_token_dict(source_tokens)\n",
        "target_token_dict = build_token_dict(target_tokens)\n",
        "target_token_dict_inv = {v:k for k,v in target_token_dict.items()}\n",
        "\n",
        "#for key, value in target_token_dict.items():\n",
        "#  target_token_dict_inv[value] = key\n",
        "\n",
        "print(source_token_dict)\n",
        "print(target_token_dict)\n",
        "print(target_token_dict_inv)"
      ],
      "metadata": {
        "colab": {
          "base_uri": "https://localhost:8080/"
        },
        "id": "RvRBPn83jLe0",
        "outputId": "96a58057-03b3-4059-e235-352a1e04ed80"
      },
      "execution_count": 281,
      "outputs": [
        {
          "output_type": "stream",
          "name": "stdout",
          "text": [
            "{'<PAD>': 0, '<START>': 1, '<END>': 2, 'algunos': 3, 'tipos': 4, 'ambulancia': 5, 'esta': 6, 'en': 7, 'una': 8, 'localizacion': 9, 'llena': 10, 'cuando': 11, 'lleva': 12, 'un': 13, 'paciente': 14, 'tiene': 15, 'se': 16, 'encuentra': 17, 'vacia': 18, 'diferentes': 19, 'dos': 20, 'localizaciones': 21, 'pacientes': 22, 'efecto': 23, 'el': 24, 'es': 25, 'que': 26, 'este': 27, 'la': 28, 'actual': 29, 'exista': 30, 'cambie': 31, 'de': 32, 'pasa': 33, 'a': 34, 'estar': 35, 'mueva': 36, 'sera': 37, 'hospital': 38, 'empieza': 39, 'uno': 40, 'localiza': 41, 'movimiento': 42, 'cuatro': 43, 'tres': 44, 'tipo': 45, 'problema': 46, 'existe': 47, 'existen': 48, 'hay': 49, 'localizado': 50, 'sobre': 51, 'abulancia': 52, 'La': 53, 'precondicion': 54, 'debe': 55, 'misma': 56, 'encuentre': 57, 'ubique': 58, 'las': 59, '\"los': 60, 'objetos': 61, 'son': 62, 'y': 63, 'hospital\"': 64, 'los': 65, 'parametros': 66, 'ambulancia\"': 67, 'mover': 68, 'moverse': 69, 'entre': 70, 'mueve': 71, 'no': 72, 'objeto': 73, 'unas': 74, 'puede': 75, 'sen': 76}\n",
            "{'<PAD>': 0, '<START>': 1, '<END>': 2, 'types': 3, 'ambulancia': 4, 'ambulancia-en-localizacion': 5, '?localizacion-localizacion': 6, '?ambulancia-ambulancia': 7, 'llena-ambulancia': 8, '?paciente-paciente': 9, 'ambulancia-vacia': 10, '?localizacion1': 11, '-localizacionocalizacion': 12, '?localizacion2-localizacion': 13, 'paciente1': 14, 'paciente2-paciente': 15, 'effect': 16, '(': 17, 'and': 18, '?localizacion': 19, '?ambulancia': 20, ')': 21, 'paciente-en-localizacion': 22, '?paciente': 23, '?localizacion2': 24, 'ir': 25, 'not': 26, '(and': 27, 'hospital-en': 28, 'localizacion1': 29, 'localizaion4': 30, 'localizacion3': 31, 'localizacion2': 32, 'localizacion4': 33, 'paciente': 34, 'paciente2': 35, 'en': 36, 'hospital1-hospital': 37, 'ambulancia1-ambulancia': 38, 'localizacion4-localizacion': 39, 'hospital': 40, 'hospital-en-localizacion': 41, '': 42, 'ambulancia1': 43, 'localizacion': 44, 'precondition': 45, 'parameters': 46, '?localizacion1-localizacion': 47}\n",
            "{0: '<PAD>', 1: '<START>', 2: '<END>', 3: 'types', 4: 'ambulancia', 5: 'ambulancia-en-localizacion', 6: '?localizacion-localizacion', 7: '?ambulancia-ambulancia', 8: 'llena-ambulancia', 9: '?paciente-paciente', 10: 'ambulancia-vacia', 11: '?localizacion1', 12: '-localizacionocalizacion', 13: '?localizacion2-localizacion', 14: 'paciente1', 15: 'paciente2-paciente', 16: 'effect', 17: '(', 18: 'and', 19: '?localizacion', 20: '?ambulancia', 21: ')', 22: 'paciente-en-localizacion', 23: '?paciente', 24: '?localizacion2', 25: 'ir', 26: 'not', 27: '(and', 28: 'hospital-en', 29: 'localizacion1', 30: 'localizaion4', 31: 'localizacion3', 32: 'localizacion2', 33: 'localizacion4', 34: 'paciente', 35: 'paciente2', 36: 'en', 37: 'hospital1-hospital', 38: 'ambulancia1-ambulancia', 39: 'localizacion4-localizacion', 40: 'hospital', 41: 'hospital-en-localizacion', 42: '', 43: 'ambulancia1', 44: 'localizacion', 45: 'precondition', 46: 'parameters', 47: '?localizacion1-localizacion'}\n"
          ]
        }
      ]
    },
    {
      "cell_type": "code",
      "source": [
        "# Agregar <PAD>, <START> y <END> a cada frase del set de entrenamiento\n",
        "encoder_tokens = [['<START>'] + tokens + ['<END>'] for tokens in source_tokens]\n",
        "decoder_tokens = [['<START>'] + tokens + ['<END>'] for tokens in target_tokens]\n",
        "output_tokens = [tokens + ['<END>'] for tokens in target_tokens]\n",
        "\n",
        "#encoder_tokens = []\n",
        "#for tokens in source_tokens:\n",
        "#  encoder_tokens.append(['<START>'] + tokens + ['<END>'])\n",
        "\n",
        "source_max_len = max(map(len, encoder_tokens))\n",
        "target_max_len = max(map(len, decoder_tokens))\n",
        "\n",
        "encoder_tokens = [tokens + ['<PAD>'] * (source_max_len - len(tokens)) for tokens in encoder_tokens]\n",
        "decoder_tokens = [tokens + ['<PAD>'] * (target_max_len - len(tokens)) for tokens in decoder_tokens]\n",
        "output_tokens = [tokens + ['<PAD>'] * (target_max_len - len(tokens)) for tokens in output_tokens]\n",
        "\n",
        "print(encoder_tokens[120])\n",
        "print(decoder_tokens[120])\n",
        "print(output_tokens[120])"
      ],
      "metadata": {
        "colab": {
          "base_uri": "https://localhost:8080/"
        },
        "id": "aAduHZKqBZ6W",
        "outputId": "8e3f8b38-12c8-4a1e-b5ec-7929e8848cae"
      },
      "execution_count": 282,
      "outputs": [
        {
          "output_type": "stream",
          "name": "stdout",
          "text": [
            "['<START>', 'paciente', 'dos', 'esta', 'en', 'la', 'localizacion', 'cuatro', '<END>', '<PAD>', '<PAD>', '<PAD>', '<PAD>', '<PAD>', '<PAD>', '<PAD>', '<PAD>']\n",
            "['<START>', 'paciente-en-localizacion', 'localizacion4', 'paciente2', '<END>', '<PAD>', '<PAD>', '<PAD>', '<PAD>', '<PAD>', '<PAD>', '<PAD>', '<PAD>', '<PAD>', '<PAD>', '<PAD>', '<PAD>', '<PAD>', '<PAD>', '<PAD>', '<PAD>']\n",
            "['paciente-en-localizacion', 'localizacion4', 'paciente2', '<END>', '<PAD>', '<PAD>', '<PAD>', '<PAD>', '<PAD>', '<PAD>', '<PAD>', '<PAD>', '<PAD>', '<PAD>', '<PAD>', '<PAD>', '<PAD>', '<PAD>', '<PAD>', '<PAD>', '<PAD>']\n"
          ]
        }
      ]
    },
    {
      "cell_type": "code",
      "source": [
        "encoder_input = [list(map(lambda x: source_token_dict[x], tokens)) for tokens in encoder_tokens]\n",
        "decoder_input = [list(map(lambda x: target_token_dict[x], tokens)) for tokens in decoder_tokens]\n",
        "output_input = [list(map(lambda x: [target_token_dict[x]], tokens)) for tokens in output_tokens]\n",
        "\n",
        "#encoder_input = []\n",
        "#for tokens in encoder_tokens:\n",
        "#  temp = []\n",
        "#  for token in tokens:\n",
        "#    temp.append(source_token_dict[token])\n",
        "#  encoder_input.append(temp)\n",
        "\n",
        "print(encoder_input[120])\n",
        "print(decoder_input[120])\n",
        "print(output_input[120])"
      ],
      "metadata": {
        "colab": {
          "base_uri": "https://localhost:8080/"
        },
        "id": "WmPgWhX8NdpB",
        "outputId": "88fa3c46-c3e2-4748-cb78-ed29a2961d80"
      },
      "execution_count": 283,
      "outputs": [
        {
          "output_type": "stream",
          "name": "stdout",
          "text": [
            "[1, 14, 20, 6, 7, 28, 9, 43, 2, 0, 0, 0, 0, 0, 0, 0, 0]\n",
            "[1, 22, 33, 35, 2, 0, 0, 0, 0, 0, 0, 0, 0, 0, 0, 0, 0, 0, 0, 0, 0]\n",
            "[[22], [33], [35], [2], [0], [0], [0], [0], [0], [0], [0], [0], [0], [0], [0], [0], [0], [0], [0], [0], [0]]\n"
          ]
        }
      ]
    },
    {
      "cell_type": "code",
      "source": [
        "pip install keras_transformer"
      ],
      "metadata": {
        "id": "LDAOegx3TXrt",
        "colab": {
          "base_uri": "https://localhost:8080/"
        },
        "outputId": "7e5dfca0-a17a-41bc-9418-2e37764f09b1"
      },
      "execution_count": 284,
      "outputs": [
        {
          "output_type": "stream",
          "name": "stdout",
          "text": [
            "Looking in indexes: https://pypi.org/simple, https://us-python.pkg.dev/colab-wheels/public/simple/\n",
            "Requirement already satisfied: keras_transformer in /usr/local/lib/python3.7/dist-packages (0.40.0)\n",
            "Requirement already satisfied: keras-layer-normalization==0.16.0 in /usr/local/lib/python3.7/dist-packages (from keras_transformer) (0.16.0)\n",
            "Requirement already satisfied: keras-pos-embd==0.13.0 in /usr/local/lib/python3.7/dist-packages (from keras_transformer) (0.13.0)\n",
            "Requirement already satisfied: keras-position-wise-feed-forward==0.8.0 in /usr/local/lib/python3.7/dist-packages (from keras_transformer) (0.8.0)\n",
            "Requirement already satisfied: keras-embed-sim==0.10.0 in /usr/local/lib/python3.7/dist-packages (from keras_transformer) (0.10.0)\n",
            "Requirement already satisfied: keras-multi-head==0.29.0 in /usr/local/lib/python3.7/dist-packages (from keras_transformer) (0.29.0)\n",
            "Requirement already satisfied: numpy in /usr/local/lib/python3.7/dist-packages (from keras-embed-sim==0.10.0->keras_transformer) (1.21.6)\n",
            "Requirement already satisfied: keras-self-attention==0.51.0 in /usr/local/lib/python3.7/dist-packages (from keras-multi-head==0.29.0->keras_transformer) (0.51.0)\n"
          ]
        }
      ]
    },
    {
      "cell_type": "code",
      "source": [
        "# Crear la red neuronal\n",
        "from keras_transformer import get_model, decode\n",
        "import numpy as np\n",
        "\n",
        "# Establecer una semilla inicial\n",
        "np.random.seed(0)"
      ],
      "metadata": {
        "id": "ZhK7eUi5TX8I"
      },
      "execution_count": 285,
      "outputs": []
    },
    {
      "cell_type": "code",
      "source": [
        "model = get_model(\n",
        "    token_num = max(len(source_token_dict), len(target_token_dict)),\n",
        "    embed_dim = 32,\n",
        "    encoder_num = 2,\n",
        "    decoder_num = 2,\n",
        "    head_num = 4,\n",
        "    hidden_dim = 128,\n",
        "    dropout_rate = 0.02,\n",
        "    use_same_embed = False\n",
        ")\n",
        "\n",
        "model.compile('adam', 'sparse_categorical_crossentropy')\n",
        "model.summary()"
      ],
      "metadata": {
        "id": "rwJbL7z0TYL3",
        "colab": {
          "base_uri": "https://localhost:8080/"
        },
        "outputId": "a3c4016b-9207-4bc3-e26d-11d574d8ea59"
      },
      "execution_count": 286,
      "outputs": [
        {
          "output_type": "stream",
          "name": "stdout",
          "text": [
            "Model: \"model_11\"\n",
            "__________________________________________________________________________________________________\n",
            " Layer (type)                   Output Shape         Param #     Connected to                     \n",
            "==================================================================================================\n",
            " Encoder-Input (InputLayer)     [(None, None)]       0           []                               \n",
            "                                                                                                  \n",
            " Encoder-Token-Embedding (Embed  [(None, None, 32),  2464        ['Encoder-Input[0][0]']          \n",
            " dingRet)                        (77, 32)]                                                        \n",
            "                                                                                                  \n",
            " Encoder-Embedding (TrigPosEmbe  (None, None, 32)    0           ['Encoder-Token-Embedding[0][0]']\n",
            " dding)                                                                                           \n",
            "                                                                                                  \n",
            " Encoder-1-MultiHeadSelfAttenti  (None, None, 32)    4224        ['Encoder-Embedding[0][0]']      \n",
            " on (MultiHeadAttention)                                                                          \n",
            "                                                                                                  \n",
            " Encoder-1-MultiHeadSelfAttenti  (None, None, 32)    0           ['Encoder-1-MultiHeadSelfAttentio\n",
            " on-Dropout (Dropout)                                            n[0][0]']                        \n",
            "                                                                                                  \n",
            " Encoder-1-MultiHeadSelfAttenti  (None, None, 32)    0           ['Encoder-Embedding[0][0]',      \n",
            " on-Add (Add)                                                     'Encoder-1-MultiHeadSelfAttentio\n",
            "                                                                 n-Dropout[0][0]']                \n",
            "                                                                                                  \n",
            " Encoder-1-MultiHeadSelfAttenti  (None, None, 32)    64          ['Encoder-1-MultiHeadSelfAttentio\n",
            " on-Norm (LayerNormalization)                                    n-Add[0][0]']                    \n",
            "                                                                                                  \n",
            " Encoder-1-FeedForward (FeedFor  (None, None, 32)    8352        ['Encoder-1-MultiHeadSelfAttentio\n",
            " ward)                                                           n-Norm[0][0]']                   \n",
            "                                                                                                  \n",
            " Encoder-1-FeedForward-Dropout   (None, None, 32)    0           ['Encoder-1-FeedForward[0][0]']  \n",
            " (Dropout)                                                                                        \n",
            "                                                                                                  \n",
            " Encoder-1-FeedForward-Add (Add  (None, None, 32)    0           ['Encoder-1-MultiHeadSelfAttentio\n",
            " )                                                               n-Norm[0][0]',                   \n",
            "                                                                  'Encoder-1-FeedForward-Dropout[0\n",
            "                                                                 ][0]']                           \n",
            "                                                                                                  \n",
            " Encoder-1-FeedForward-Norm (La  (None, None, 32)    64          ['Encoder-1-FeedForward-Add[0][0]\n",
            " yerNormalization)                                               ']                               \n",
            "                                                                                                  \n",
            " Encoder-2-MultiHeadSelfAttenti  (None, None, 32)    4224        ['Encoder-1-FeedForward-Norm[0][0\n",
            " on (MultiHeadAttention)                                         ]']                              \n",
            "                                                                                                  \n",
            " Decoder-Input (InputLayer)     [(None, None)]       0           []                               \n",
            "                                                                                                  \n",
            " Encoder-2-MultiHeadSelfAttenti  (None, None, 32)    0           ['Encoder-2-MultiHeadSelfAttentio\n",
            " on-Dropout (Dropout)                                            n[0][0]']                        \n",
            "                                                                                                  \n",
            " Decoder-Token-Embedding (Embed  [(None, None, 32),  2464        ['Decoder-Input[0][0]']          \n",
            " dingRet)                        (77, 32)]                                                        \n",
            "                                                                                                  \n",
            " Encoder-2-MultiHeadSelfAttenti  (None, None, 32)    0           ['Encoder-1-FeedForward-Norm[0][0\n",
            " on-Add (Add)                                                    ]',                              \n",
            "                                                                  'Encoder-2-MultiHeadSelfAttentio\n",
            "                                                                 n-Dropout[0][0]']                \n",
            "                                                                                                  \n",
            " Decoder-Embedding (TrigPosEmbe  (None, None, 32)    0           ['Decoder-Token-Embedding[0][0]']\n",
            " dding)                                                                                           \n",
            "                                                                                                  \n",
            " Encoder-2-MultiHeadSelfAttenti  (None, None, 32)    64          ['Encoder-2-MultiHeadSelfAttentio\n",
            " on-Norm (LayerNormalization)                                    n-Add[0][0]']                    \n",
            "                                                                                                  \n",
            " Decoder-1-MultiHeadSelfAttenti  (None, None, 32)    4224        ['Decoder-Embedding[0][0]']      \n",
            " on (MultiHeadAttention)                                                                          \n",
            "                                                                                                  \n",
            " Encoder-2-FeedForward (FeedFor  (None, None, 32)    8352        ['Encoder-2-MultiHeadSelfAttentio\n",
            " ward)                                                           n-Norm[0][0]']                   \n",
            "                                                                                                  \n",
            " Decoder-1-MultiHeadSelfAttenti  (None, None, 32)    0           ['Decoder-1-MultiHeadSelfAttentio\n",
            " on-Dropout (Dropout)                                            n[0][0]']                        \n",
            "                                                                                                  \n",
            " Encoder-2-FeedForward-Dropout   (None, None, 32)    0           ['Encoder-2-FeedForward[0][0]']  \n",
            " (Dropout)                                                                                        \n",
            "                                                                                                  \n",
            " Decoder-1-MultiHeadSelfAttenti  (None, None, 32)    0           ['Decoder-Embedding[0][0]',      \n",
            " on-Add (Add)                                                     'Decoder-1-MultiHeadSelfAttentio\n",
            "                                                                 n-Dropout[0][0]']                \n",
            "                                                                                                  \n",
            " Encoder-2-FeedForward-Add (Add  (None, None, 32)    0           ['Encoder-2-MultiHeadSelfAttentio\n",
            " )                                                               n-Norm[0][0]',                   \n",
            "                                                                  'Encoder-2-FeedForward-Dropout[0\n",
            "                                                                 ][0]']                           \n",
            "                                                                                                  \n",
            " Decoder-1-MultiHeadSelfAttenti  (None, None, 32)    64          ['Decoder-1-MultiHeadSelfAttentio\n",
            " on-Norm (LayerNormalization)                                    n-Add[0][0]']                    \n",
            "                                                                                                  \n",
            " Encoder-2-FeedForward-Norm (La  (None, None, 32)    64          ['Encoder-2-FeedForward-Add[0][0]\n",
            " yerNormalization)                                               ']                               \n",
            "                                                                                                  \n",
            " Decoder-1-MultiHeadQueryAttent  (None, None, 32)    4224        ['Decoder-1-MultiHeadSelfAttentio\n",
            " ion (MultiHeadAttention)                                        n-Norm[0][0]',                   \n",
            "                                                                  'Encoder-2-FeedForward-Norm[0][0\n",
            "                                                                 ]',                              \n",
            "                                                                  'Encoder-2-FeedForward-Norm[0][0\n",
            "                                                                 ]']                              \n",
            "                                                                                                  \n",
            " Decoder-1-MultiHeadQueryAttent  (None, None, 32)    0           ['Decoder-1-MultiHeadQueryAttenti\n",
            " ion-Dropout (Dropout)                                           on[0][0]']                       \n",
            "                                                                                                  \n",
            " Decoder-1-MultiHeadQueryAttent  (None, None, 32)    0           ['Decoder-1-MultiHeadSelfAttentio\n",
            " ion-Add (Add)                                                   n-Norm[0][0]',                   \n",
            "                                                                  'Decoder-1-MultiHeadQueryAttenti\n",
            "                                                                 on-Dropout[0][0]']               \n",
            "                                                                                                  \n",
            " Decoder-1-MultiHeadQueryAttent  (None, None, 32)    64          ['Decoder-1-MultiHeadQueryAttenti\n",
            " ion-Norm (LayerNormalization)                                   on-Add[0][0]']                   \n",
            "                                                                                                  \n",
            " Decoder-1-FeedForward (FeedFor  (None, None, 32)    8352        ['Decoder-1-MultiHeadQueryAttenti\n",
            " ward)                                                           on-Norm[0][0]']                  \n",
            "                                                                                                  \n",
            " Decoder-1-FeedForward-Dropout   (None, None, 32)    0           ['Decoder-1-FeedForward[0][0]']  \n",
            " (Dropout)                                                                                        \n",
            "                                                                                                  \n",
            " Decoder-1-FeedForward-Add (Add  (None, None, 32)    0           ['Decoder-1-MultiHeadQueryAttenti\n",
            " )                                                               on-Norm[0][0]',                  \n",
            "                                                                  'Decoder-1-FeedForward-Dropout[0\n",
            "                                                                 ][0]']                           \n",
            "                                                                                                  \n",
            " Decoder-1-FeedForward-Norm (La  (None, None, 32)    64          ['Decoder-1-FeedForward-Add[0][0]\n",
            " yerNormalization)                                               ']                               \n",
            "                                                                                                  \n",
            " Decoder-2-MultiHeadSelfAttenti  (None, None, 32)    4224        ['Decoder-1-FeedForward-Norm[0][0\n",
            " on (MultiHeadAttention)                                         ]']                              \n",
            "                                                                                                  \n",
            " Decoder-2-MultiHeadSelfAttenti  (None, None, 32)    0           ['Decoder-2-MultiHeadSelfAttentio\n",
            " on-Dropout (Dropout)                                            n[0][0]']                        \n",
            "                                                                                                  \n",
            " Decoder-2-MultiHeadSelfAttenti  (None, None, 32)    0           ['Decoder-1-FeedForward-Norm[0][0\n",
            " on-Add (Add)                                                    ]',                              \n",
            "                                                                  'Decoder-2-MultiHeadSelfAttentio\n",
            "                                                                 n-Dropout[0][0]']                \n",
            "                                                                                                  \n",
            " Decoder-2-MultiHeadSelfAttenti  (None, None, 32)    64          ['Decoder-2-MultiHeadSelfAttentio\n",
            " on-Norm (LayerNormalization)                                    n-Add[0][0]']                    \n",
            "                                                                                                  \n",
            " Decoder-2-MultiHeadQueryAttent  (None, None, 32)    4224        ['Decoder-2-MultiHeadSelfAttentio\n",
            " ion (MultiHeadAttention)                                        n-Norm[0][0]',                   \n",
            "                                                                  'Encoder-2-FeedForward-Norm[0][0\n",
            "                                                                 ]',                              \n",
            "                                                                  'Encoder-2-FeedForward-Norm[0][0\n",
            "                                                                 ]']                              \n",
            "                                                                                                  \n",
            " Decoder-2-MultiHeadQueryAttent  (None, None, 32)    0           ['Decoder-2-MultiHeadQueryAttenti\n",
            " ion-Dropout (Dropout)                                           on[0][0]']                       \n",
            "                                                                                                  \n",
            " Decoder-2-MultiHeadQueryAttent  (None, None, 32)    0           ['Decoder-2-MultiHeadSelfAttentio\n",
            " ion-Add (Add)                                                   n-Norm[0][0]',                   \n",
            "                                                                  'Decoder-2-MultiHeadQueryAttenti\n",
            "                                                                 on-Dropout[0][0]']               \n",
            "                                                                                                  \n",
            " Decoder-2-MultiHeadQueryAttent  (None, None, 32)    64          ['Decoder-2-MultiHeadQueryAttenti\n",
            " ion-Norm (LayerNormalization)                                   on-Add[0][0]']                   \n",
            "                                                                                                  \n",
            " Decoder-2-FeedForward (FeedFor  (None, None, 32)    8352        ['Decoder-2-MultiHeadQueryAttenti\n",
            " ward)                                                           on-Norm[0][0]']                  \n",
            "                                                                                                  \n",
            " Decoder-2-FeedForward-Dropout   (None, None, 32)    0           ['Decoder-2-FeedForward[0][0]']  \n",
            " (Dropout)                                                                                        \n",
            "                                                                                                  \n",
            " Decoder-2-FeedForward-Add (Add  (None, None, 32)    0           ['Decoder-2-MultiHeadQueryAttenti\n",
            " )                                                               on-Norm[0][0]',                  \n",
            "                                                                  'Decoder-2-FeedForward-Dropout[0\n",
            "                                                                 ][0]']                           \n",
            "                                                                                                  \n",
            " Decoder-2-FeedForward-Norm (La  (None, None, 32)    64          ['Decoder-2-FeedForward-Add[0][0]\n",
            " yerNormalization)                                               ']                               \n",
            "                                                                                                  \n",
            " Decoder-Output (EmbeddingSim)  (None, None, 77)     77          ['Decoder-2-FeedForward-Norm[0][0\n",
            "                                                                 ]',                              \n",
            "                                                                  'Decoder-Token-Embedding[0][1]']\n",
            "                                                                                                  \n",
            "==================================================================================================\n",
            "Total params: 64,397\n",
            "Trainable params: 64,397\n",
            "Non-trainable params: 0\n",
            "__________________________________________________________________________________________________\n"
          ]
        }
      ]
    },
    {
      "cell_type": "code",
      "source": [
        "# Entrenamiento\n",
        "x = [np.array(encoder_input), np.array(decoder_input)]\n",
        "y = np.array(output_input)\n",
        "\n",
        "filename = \"/content/drive/My Drive/Models/english-spanish.h5\"\n",
        "\n",
        "history = model.fit(x, y, validation_split = 0.8, epochs = 100, batch_size = 32)\n",
        "model.save(filename)\n",
        "\n",
        "model.load_weights(filename)"
      ],
      "metadata": {
        "colab": {
          "base_uri": "https://localhost:8080/"
        },
        "id": "V9s8_p50dICB",
        "outputId": "5cfc545b-24a8-404a-d95e-1f39400959a5"
      },
      "execution_count": 287,
      "outputs": [
        {
          "output_type": "stream",
          "name": "stdout",
          "text": [
            "Epoch 1/100\n",
            "7/7 [==============================] - 25s 581ms/step - loss: 0.9707 - val_loss: 0.9263\n",
            "Epoch 2/100\n",
            "7/7 [==============================] - 1s 110ms/step - loss: 0.9100 - val_loss: 0.8808\n",
            "Epoch 3/100\n",
            "7/7 [==============================] - 1s 117ms/step - loss: 0.8647 - val_loss: 0.8366\n",
            "Epoch 4/100\n",
            "7/7 [==============================] - 1s 111ms/step - loss: 0.8221 - val_loss: 0.7960\n",
            "Epoch 5/100\n",
            "7/7 [==============================] - 1s 114ms/step - loss: 0.7830 - val_loss: 0.7603\n",
            "Epoch 6/100\n",
            "7/7 [==============================] - 1s 109ms/step - loss: 0.7495 - val_loss: 0.7305\n",
            "Epoch 7/100\n",
            "7/7 [==============================] - 1s 112ms/step - loss: 0.7223 - val_loss: 0.7069\n",
            "Epoch 8/100\n",
            "7/7 [==============================] - 1s 151ms/step - loss: 0.7009 - val_loss: 0.6881\n",
            "Epoch 9/100\n",
            "7/7 [==============================] - 1s 115ms/step - loss: 0.6830 - val_loss: 0.6752\n",
            "Epoch 10/100\n",
            "7/7 [==============================] - 1s 111ms/step - loss: 0.6702 - val_loss: 0.6606\n",
            "Epoch 11/100\n",
            "7/7 [==============================] - 1s 119ms/step - loss: 0.6524 - val_loss: 0.6384\n",
            "Epoch 12/100\n",
            "7/7 [==============================] - 1s 113ms/step - loss: 0.6305 - val_loss: 0.6175\n",
            "Epoch 13/100\n",
            "7/7 [==============================] - 1s 111ms/step - loss: 0.6122 - val_loss: 0.6032\n",
            "Epoch 14/100\n",
            "7/7 [==============================] - 1s 109ms/step - loss: 0.5958 - val_loss: 0.5804\n",
            "Epoch 15/100\n",
            "7/7 [==============================] - 1s 111ms/step - loss: 0.5732 - val_loss: 0.5566\n",
            "Epoch 16/100\n",
            "7/7 [==============================] - 1s 117ms/step - loss: 0.5503 - val_loss: 0.5375\n",
            "Epoch 17/100\n",
            "7/7 [==============================] - 1s 156ms/step - loss: 0.5320 - val_loss: 0.5195\n",
            "Epoch 18/100\n",
            "7/7 [==============================] - 1s 119ms/step - loss: 0.5138 - val_loss: 0.4988\n",
            "Epoch 19/100\n",
            "7/7 [==============================] - 1s 112ms/step - loss: 0.4931 - val_loss: 0.4817\n",
            "Epoch 20/100\n",
            "7/7 [==============================] - 1s 111ms/step - loss: 0.4802 - val_loss: 0.4634\n",
            "Epoch 21/100\n",
            "7/7 [==============================] - 1s 110ms/step - loss: 0.4564 - val_loss: 0.4456\n",
            "Epoch 22/100\n",
            "7/7 [==============================] - 1s 112ms/step - loss: 0.4395 - val_loss: 0.4253\n",
            "Epoch 23/100\n",
            "7/7 [==============================] - 1s 113ms/step - loss: 0.4231 - val_loss: 0.4199\n",
            "Epoch 24/100\n",
            "7/7 [==============================] - 1s 110ms/step - loss: 0.4102 - val_loss: 0.4004\n",
            "Epoch 25/100\n",
            "7/7 [==============================] - 1s 109ms/step - loss: 0.3932 - val_loss: 0.3802\n",
            "Epoch 26/100\n",
            "7/7 [==============================] - 1s 114ms/step - loss: 0.3749 - val_loss: 0.3620\n",
            "Epoch 27/100\n",
            "7/7 [==============================] - 1s 116ms/step - loss: 0.3610 - val_loss: 0.3604\n",
            "Epoch 28/100\n",
            "7/7 [==============================] - 1s 121ms/step - loss: 0.3548 - val_loss: 0.3394\n",
            "Epoch 29/100\n",
            "7/7 [==============================] - 1s 117ms/step - loss: 0.3401 - val_loss: 0.3275\n",
            "Epoch 30/100\n",
            "7/7 [==============================] - 1s 111ms/step - loss: 0.3251 - val_loss: 0.3142\n",
            "Epoch 31/100\n",
            "7/7 [==============================] - 1s 111ms/step - loss: 0.3150 - val_loss: 0.3017\n",
            "Epoch 32/100\n",
            "7/7 [==============================] - 1s 110ms/step - loss: 0.3012 - val_loss: 0.2868\n",
            "Epoch 33/100\n",
            "7/7 [==============================] - 1s 109ms/step - loss: 0.2926 - val_loss: 0.2810\n",
            "Epoch 34/100\n",
            "7/7 [==============================] - 1s 110ms/step - loss: 0.2794 - val_loss: 0.2690\n",
            "Epoch 35/100\n",
            "7/7 [==============================] - 1s 115ms/step - loss: 0.2697 - val_loss: 0.2593\n",
            "Epoch 36/100\n",
            "7/7 [==============================] - 1s 121ms/step - loss: 0.2577 - val_loss: 0.2503\n",
            "Epoch 37/100\n",
            "7/7 [==============================] - 1s 128ms/step - loss: 0.2494 - val_loss: 0.2435\n",
            "Epoch 38/100\n",
            "7/7 [==============================] - 1s 116ms/step - loss: 0.2407 - val_loss: 0.2308\n",
            "Epoch 39/100\n",
            "7/7 [==============================] - 1s 150ms/step - loss: 0.2315 - val_loss: 0.2238\n",
            "Epoch 40/100\n",
            "7/7 [==============================] - 1s 115ms/step - loss: 0.2251 - val_loss: 0.2122\n",
            "Epoch 41/100\n",
            "7/7 [==============================] - 1s 126ms/step - loss: 0.2131 - val_loss: 0.2044\n",
            "Epoch 42/100\n",
            "7/7 [==============================] - 1s 130ms/step - loss: 0.2088 - val_loss: 0.2008\n",
            "Epoch 43/100\n",
            "7/7 [==============================] - 1s 116ms/step - loss: 0.2011 - val_loss: 0.1921\n",
            "Epoch 44/100\n",
            "7/7 [==============================] - 1s 114ms/step - loss: 0.1932 - val_loss: 0.1849\n",
            "Epoch 45/100\n",
            "7/7 [==============================] - 1s 124ms/step - loss: 0.1877 - val_loss: 0.1779\n",
            "Epoch 46/100\n",
            "7/7 [==============================] - 1s 121ms/step - loss: 0.1845 - val_loss: 0.1743\n",
            "Epoch 47/100\n",
            "7/7 [==============================] - 1s 122ms/step - loss: 0.1796 - val_loss: 0.1743\n",
            "Epoch 48/100\n",
            "7/7 [==============================] - 1s 130ms/step - loss: 0.1687 - val_loss: 0.1650\n",
            "Epoch 49/100\n",
            "7/7 [==============================] - 1s 155ms/step - loss: 0.1668 - val_loss: 0.1576\n",
            "Epoch 50/100\n",
            "7/7 [==============================] - 1s 121ms/step - loss: 0.1565 - val_loss: 0.1501\n",
            "Epoch 51/100\n",
            "7/7 [==============================] - 1s 122ms/step - loss: 0.1512 - val_loss: 0.1468\n",
            "Epoch 52/100\n",
            "7/7 [==============================] - 1s 114ms/step - loss: 0.1472 - val_loss: 0.1437\n",
            "Epoch 53/100\n",
            "7/7 [==============================] - 1s 113ms/step - loss: 0.1463 - val_loss: 0.1335\n",
            "Epoch 54/100\n",
            "7/7 [==============================] - 1s 108ms/step - loss: 0.1361 - val_loss: 0.1295\n",
            "Epoch 55/100\n",
            "7/7 [==============================] - 1s 111ms/step - loss: 0.1311 - val_loss: 0.1236\n",
            "Epoch 56/100\n",
            "7/7 [==============================] - 1s 109ms/step - loss: 0.1263 - val_loss: 0.1202\n",
            "Epoch 57/100\n",
            "7/7 [==============================] - 1s 108ms/step - loss: 0.1223 - val_loss: 0.1149\n",
            "Epoch 58/100\n",
            "7/7 [==============================] - 1s 113ms/step - loss: 0.1154 - val_loss: 0.1115\n",
            "Epoch 59/100\n",
            "7/7 [==============================] - 1s 114ms/step - loss: 0.1131 - val_loss: 0.1068\n",
            "Epoch 60/100\n",
            "7/7 [==============================] - 1s 112ms/step - loss: 0.1117 - val_loss: 0.1104\n",
            "Epoch 61/100\n",
            "7/7 [==============================] - 1s 109ms/step - loss: 0.1083 - val_loss: 0.0993\n",
            "Epoch 62/100\n",
            "7/7 [==============================] - 1s 111ms/step - loss: 0.0983 - val_loss: 0.0956\n",
            "Epoch 63/100\n",
            "7/7 [==============================] - 1s 113ms/step - loss: 0.0942 - val_loss: 0.0914\n",
            "Epoch 64/100\n",
            "7/7 [==============================] - 1s 112ms/step - loss: 0.0898 - val_loss: 0.0872\n",
            "Epoch 65/100\n",
            "7/7 [==============================] - 1s 111ms/step - loss: 0.0881 - val_loss: 0.0844\n",
            "Epoch 66/100\n",
            "7/7 [==============================] - 1s 108ms/step - loss: 0.0835 - val_loss: 0.0843\n",
            "Epoch 67/100\n",
            "7/7 [==============================] - 1s 115ms/step - loss: 0.0862 - val_loss: 0.0795\n",
            "Epoch 68/100\n",
            "7/7 [==============================] - 1s 125ms/step - loss: 0.0804 - val_loss: 0.0790\n",
            "Epoch 69/100\n",
            "7/7 [==============================] - 1s 123ms/step - loss: 0.0775 - val_loss: 0.0789\n",
            "Epoch 70/100\n",
            "7/7 [==============================] - 1s 115ms/step - loss: 0.0752 - val_loss: 0.0748\n",
            "Epoch 71/100\n",
            "7/7 [==============================] - 1s 110ms/step - loss: 0.0727 - val_loss: 0.0721\n",
            "Epoch 72/100\n",
            "7/7 [==============================] - 1s 109ms/step - loss: 0.0706 - val_loss: 0.0660\n",
            "Epoch 73/100\n",
            "7/7 [==============================] - 1s 114ms/step - loss: 0.0652 - val_loss: 0.0663\n",
            "Epoch 74/100\n",
            "7/7 [==============================] - 1s 110ms/step - loss: 0.0638 - val_loss: 0.0638\n",
            "Epoch 75/100\n",
            "7/7 [==============================] - 1s 108ms/step - loss: 0.0633 - val_loss: 0.0638\n",
            "Epoch 76/100\n",
            "7/7 [==============================] - 1s 111ms/step - loss: 0.0626 - val_loss: 0.0620\n",
            "Epoch 77/100\n",
            "7/7 [==============================] - 1s 114ms/step - loss: 0.0585 - val_loss: 0.0583\n",
            "Epoch 78/100\n",
            "7/7 [==============================] - 1s 108ms/step - loss: 0.0567 - val_loss: 0.0557\n",
            "Epoch 79/100\n",
            "7/7 [==============================] - 1s 114ms/step - loss: 0.0533 - val_loss: 0.0520\n",
            "Epoch 80/100\n",
            "7/7 [==============================] - 1s 113ms/step - loss: 0.0525 - val_loss: 0.0514\n",
            "Epoch 81/100\n",
            "7/7 [==============================] - 1s 111ms/step - loss: 0.0492 - val_loss: 0.0470\n",
            "Epoch 82/100\n",
            "7/7 [==============================] - 1s 111ms/step - loss: 0.0475 - val_loss: 0.0468\n",
            "Epoch 83/100\n",
            "7/7 [==============================] - 1s 113ms/step - loss: 0.0461 - val_loss: 0.0441\n",
            "Epoch 84/100\n",
            "7/7 [==============================] - 1s 116ms/step - loss: 0.0410 - val_loss: 0.0431\n",
            "Epoch 85/100\n",
            "7/7 [==============================] - 1s 123ms/step - loss: 0.0403 - val_loss: 0.0407\n",
            "Epoch 86/100\n",
            "7/7 [==============================] - 1s 123ms/step - loss: 0.0390 - val_loss: 0.0390\n",
            "Epoch 87/100\n",
            "7/7 [==============================] - 1s 112ms/step - loss: 0.0372 - val_loss: 0.0379\n",
            "Epoch 88/100\n",
            "7/7 [==============================] - 1s 111ms/step - loss: 0.0357 - val_loss: 0.0374\n",
            "Epoch 89/100\n",
            "7/7 [==============================] - 1s 111ms/step - loss: 0.0353 - val_loss: 0.0357\n",
            "Epoch 90/100\n",
            "7/7 [==============================] - 1s 114ms/step - loss: 0.0336 - val_loss: 0.0344\n",
            "Epoch 91/100\n",
            "7/7 [==============================] - 1s 115ms/step - loss: 0.0314 - val_loss: 0.0326\n",
            "Epoch 92/100\n",
            "7/7 [==============================] - 1s 113ms/step - loss: 0.0302 - val_loss: 0.0322\n",
            "Epoch 93/100\n",
            "7/7 [==============================] - 1s 111ms/step - loss: 0.0305 - val_loss: 0.0313\n",
            "Epoch 94/100\n",
            "7/7 [==============================] - 1s 114ms/step - loss: 0.0295 - val_loss: 0.0310\n",
            "Epoch 95/100\n",
            "7/7 [==============================] - 1s 110ms/step - loss: 0.0285 - val_loss: 0.0280\n",
            "Epoch 96/100\n",
            "7/7 [==============================] - 1s 109ms/step - loss: 0.0277 - val_loss: 0.0295\n",
            "Epoch 97/100\n",
            "7/7 [==============================] - 1s 115ms/step - loss: 0.0289 - val_loss: 0.0322\n",
            "Epoch 98/100\n",
            "7/7 [==============================] - 1s 115ms/step - loss: 0.0289 - val_loss: 0.0267\n",
            "Epoch 99/100\n",
            "7/7 [==============================] - 1s 113ms/step - loss: 0.0242 - val_loss: 0.0268\n",
            "Epoch 100/100\n",
            "7/7 [==============================] - 1s 119ms/step - loss: 0.0251 - val_loss: 0.0256\n"
          ]
        }
      ]
    },
    {
      "cell_type": "code",
      "source": [
        "import matplotlib.pyplot as plt\n",
        "\n",
        "loss = history.history[\"loss\"]\n",
        "val_loss = history.history[\"val_loss\"]\n",
        "epochs = range(1, len(loss) + 1)\n",
        "plt.plot(epochs, loss, \"bo\", label=\"Training loss\")\n",
        "plt.plot(epochs, val_loss, \"b\", label=\"Validation loss\")\n",
        "plt.title(\"Training and validation loss\")\n",
        "plt.legend()\n",
        "plt.show()"
      ],
      "metadata": {
        "colab": {
          "base_uri": "https://localhost:8080/",
          "height": 281
        },
        "id": "z4jtYJ1ihoqR",
        "outputId": "ca5203d5-44d5-497d-aaf2-345123299cdf"
      },
      "execution_count": 288,
      "outputs": [
        {
          "output_type": "display_data",
          "data": {
            "text/plain": [
              "<Figure size 432x288 with 1 Axes>"
            ],
            "image/png": "[encoded data removed]"
          },
          "metadata": {
            "needs_background": "light"
          }
        }
      ]
    },
    {
      "cell_type": "code",
      "source": [
        "def translate(sentence):\n",
        "  sentence = preprocess_text(sentence)\n",
        "  sentence_tokens = ['<START>'] + sentence.split(' ') + ['<END>', '<PAD>']\n",
        "  sentence_tokens = sentence_tokens + ['<PAD>'] * (max(source_max_len, target_max_len) - len(sentence_tokens))\n",
        "\n",
        "  tr_input = list(map(lambda x: source_token_dict[x], [tokens for tokens in sentence_tokens]))\n",
        "\n",
        "  decoded = decode(\n",
        "      model,\n",
        "      tr_input,\n",
        "      start_token = target_token_dict['<START>'],\n",
        "      end_token = target_token_dict['<END>'],\n",
        "      pad_token = target_token_dict['<PAD>']\n",
        "  )\n",
        "\n",
        "  code = ' '.join(map(lambda x: target_token_dict_inv[x], decoded[1:-1]))\n",
        "  code = preprocess_code_output(code)\n",
        "\n",
        "  return code"
      ],
      "metadata": {
        "id": "rrnS4WcXgo6M"
      },
      "execution_count": 289,
      "outputs": []
    },
    {
      "cell_type": "code",
      "source": [
        "# Calcular la exactitud [Correctas/Pruebas]\n",
        "import random\n",
        "\n",
        "x = []\n",
        "y = []\n",
        "\n",
        "validation_set = random.sample(dataset, int(len(dataset) * 0.2))\n",
        "for element in validation_set:\n",
        "  element = element.split('\\t')\n",
        "  x.append(preprocess_text(element[0]))\n",
        "  y.append(preprocess_text(element[1]))\n",
        "\n",
        "x= list(map(lambda element: translate(element), x))\n",
        "\n",
        "print(x)\n",
        "print(y)\n",
        "\n",
        "result = list(map(lambda a, b: a == b, x, y))\n",
        "\n",
        "count = 0\n",
        "for e in result:\n",
        "  if e == True:\n",
        "    count = count + 1\n",
        "\n",
        "print(count)\n",
        "print(len(result))\n",
        "\n",
        "exactitud = round(count / len(result), 2)\n",
        "print(\"La exactitud es de: {}\".format(exactitud))"
      ],
      "metadata": {
        "colab": {
          "base_uri": "https://localhost:8080/"
        },
        "id": "XQOHIBnkkwM9",
        "outputId": "ed49d7db-2539-4af9-b369-eded4ee9266e"
      },
      "execution_count": 290,
      "outputs": [
        {
          "output_type": "stream",
          "name": "stdout",
          "text": [
            "['effect ( and ( ambulancia-en-localizacion ?localizacion ?ambulancia ) ( paciente-en-localizacion ?localizacion ?paciente ) )', 'paciente-en-localizacion', 'paciente-en-localizacion', 'paciente-en-localizacion', 'paciente-en-localizacion', 'effect ( and ( ambulancia-en-localizacion ?localizacion1 ?ambulancia ) ) ( ambulancia-en-localizacion ?localizacion2 ?ambulancia ) ( ir ?localizacion2 ?localizacion1 )', 'ir ?localizacion1 -localizacionocalizacion ?localizacion2-localizacion', 'paciente1 paciente2-paciente', 'effect (and ( not ( llena-ambulancia ?paciente ) ) ( ambulancia-vacia ) )', 'paciente', 'paciente-en-localizacion', 'ir ?localizacion1 -localizacionocalizacion ?localizacion2-localizacion', 'hospital-en-localizacion', 'ir', 'paciente-en-localizacion localizacion4 paciente2', '?paciente-paciente', 'localizacion3', 'en', 'paciente-en-localizacion', 'precondition ( and ( ambulancia-vacia ) ( ambulancia-en-localizacion ?localizacion ?ambulancia ) )', 'localizacion1 localizacion2 localizacion3 localizacion4-localizacion', 'paciente-en-localizacion localizacion3 paciente1', 'en', 'ambulancia-vacia', 'ir', 'paciente-en-localizacion', 'effect ( and ( not ( ambulancia-vacia ) ) ( llena-ambulancia ?paciente ) )', 'ambulancia-en-localizacion ?localizacion-localizacion ?ambulancia-ambulancia', 'ambulancia-vacia', 'paciente-en-localizacion', 'localizacion1 localizacion2 localizacion3 localizacion4-localizacion', 'precondition ( and ( ambulancia ?localizacion1 ?ambulancia ) ( ir ?localizacion1 ?localizacion2 ) )', 'ambulancia-en-localizacion localizacion1 ambulancia1', 'en', 'paciente', 'ambulancia-en-localizacion localizacion1 ambulancia1', 'parameters', 'hospital1-hospital', 'paciente-en-localizacion', 'paciente-en-localizacion', 'hospital1-hospital', 'localizacion1', 'paciente-en-localizacion', 'ir localizacion1 localizacion2', 'ambulancia-en-localizacion', 'ir localizacion1 localizacion2', 'hospital-en-localizacion', 'paciente', 'hospital-en localizacion1', 'paciente1 paciente2-paciente', 'ambulancia1-ambulancia', 'effect', 'paciente-en-localizacion', 'en', 'hospital-en localizacion1', 'ambulancia1-ambulancia', 'paciente-en-localizacion', 'paciente-en-localizacion', 'paciente-en-localizacion', 'ir ?localizacion1 -localizacionocalizacion ?localizacion2-localizacion', 'paciente-en-localizacion', 'effect ( and ( ambulancia-en-localizacion ?localizacion1 ?ambulancia ) ) ( ambulancia-en-localizacion ?localizacion2 ?ambulancia ) ( ir ?localizacion2 ?localizacion1 )', 'types paciente', 'types', 'paciente-en-localizacion', 'hospital-en localizacion1', 'localizacion1 localizacion2 localizacion3 localizacion4-localizacion', 'localizacion', 'en', 'ir localizacion1 localizacion2', 'paciente-en-localizacion', 'paciente-en-localizacion', 'paciente-en-localizacion', 'precondition ( and ( llena-ambulancia ?paciente ) ( ambulancia-en-localizacion ?localizacion ?ambulancia ) )', 'paciente-en-localizacion', 'paciente-en-localizacion', 'paciente-en-localizacion', 'paciente-en-localizacion', 'en', 'localizacion1 localizacion2 localizacion3 localizacion4-localizacion', 'paciente-en-localizacion', '?paciente-paciente', 'paciente-en-localizacion', 'types paciente ambulancia localizacion hospital', 'ambulancia1-ambulancia', 'types paciente ambulancia localizacion hospital', 'ambulancia1-ambulancia', 'paciente-en-localizacion', 'types paciente ambulancia localizacion hospital', 'paciente-en-localizacion', 'localizacion1 localizacion2 localizacion3 localizacion4-localizacion', 'localizacion', 'hospital1-hospital', 'hospital-en-localizacion ?localizacion-localizacion ', 'effect ( and ( ambulancia-en-localizacion ?localizacion ?ambulancia ) ( paciente-en-localizacion ?localizacion ?paciente ) )', 'ambulancia-vacia', 'paciente-en-localizacion', 'ambulancia-vacia', 'effect ( and ( not ( ambulancia-vacia ) ) ( llena-ambulancia ?paciente ) )', 'paciente1 paciente2-paciente', 'ir localizacion2 localizacion4', 'paciente-en-localizacion', 'paciente-en-localizacion localizacion4 paciente2', 'ambulancia-vacia', 'paciente-en-localizacion', 'paciente-en-localizacion localizacion4 paciente2', 'paciente-en-localizacion', 'paciente-en-localizacion', 'localizacion', 'types', '?ambulancia-ambulancia', 'hospital1-hospital', 'hospital1-hospital', 'paciente-en-localizacion', 'en', 'paciente-en-localizacion', 'paciente-en-localizacion', 'paciente1 paciente2-paciente', 'ir localizacion1 localizacion2', 'ir localizacion2 localizacion4', 'paciente', 'precondition ( and ( ambulancia-en-localizacion ?localizacion ?ambulancia ) ( paciente-en-localizacion ?localizacion ?paciente ) )', 'effect (and ( not ( llena-ambulancia ?paciente ) ) ( ambulancia-vacia ) )', 'hospital1-hospital', 'effect ( and ( ambulancia-en-localizacion ?localizacion1 ?ambulancia ) ) ( ambulancia-en-localizacion ?localizacion2 ?ambulancia ) ( ir ?localizacion2 ?localizacion1 )', 'ambulancia1-ambulancia', 'paciente-en-localizacion localizacion4 paciente2', 'ambulancia1-ambulancia', 'ambulancia-vacia', 'effect ( and ( ambulancia-en-localizacion ?localizacion ?ambulancia ) ( paciente-en-localizacion ?localizacion ?paciente ) )', 'paciente-en-localizacion', 'paciente-en-localizacion localizacion4 paciente2', 'paciente-en-localizacion', 'hospital-en localizacion1', 'localizacion1 localizacion2 localizacion3 localizacion4-localizacion', 'hospital1-hospital', 'effect ( and ( not ( ambulancia-vacia ) ) ( llena-ambulancia ?paciente ) )', 'localizacion', 'effect ( and ( ambulancia-en-localizacion ?localizacion ?ambulancia ) ( paciente-en-localizacion ?localizacion ?paciente ) )', 'ambulancia-vacia', 'ir ?localizacion1 -localizacionocalizacion ?localizacion2-localizacion', 'paciente-en-localizacion', 'effect ( and ( ambulancia-en-localizacion ?localizacion ?ambulancia ) ( paciente-en-localizacion ?localizacion ?paciente ) )', 'paciente-en-localizacion localizacion4 paciente2', 'ambulancia1-ambulancia', 'hospital-en localizacion1', 'ir localizacion2 localizacion4', 'effect ( and ( ambulancia-en-localizacion ?localizacion1 ?ambulancia ) ) ( ambulancia-en-localizacion ?localizacion2 ?ambulancia ) ( ir ?localizacion2 ?localizacion1 )', 'llena-ambulancia ?paciente-paciente', 'ir', 'paciente-en-localizacion', 'paciente-en-localizacion localizacion3 paciente1', 'paciente-en-localizacion', 'ambulancia-en-localizacion localizacion1 ambulancia1', 'en', 'paciente-en-localizacion', 'types', 'types paciente ambulancia localizacion hospital', 'localizacion', 'llena-ambulancia', 'localizacion1 localizacion2 localizacion3 localizacion4-localizacion', 'paciente', 'types', 'hospital1-hospital', 'localizacion1 localizacion2 localizacion3 localizacion4-localizacion', 'ambulancia1-ambulancia', 'paciente', 'hospital1-hospital', 'localizacion', 'effect ( and ( not ( ambulancia-vacia ) ) ( llena-ambulancia ?paciente ) )', 'paciente-en-localizacion', 'effect', 'paciente-en-localizacion', 'effect ( and ( ambulancia-en-localizacion ?localizacion ?ambulancia ) ( paciente-en-localizacion ?localizacion ?paciente ) )', 'precondition ( and ( ambulancia-en-localizacion ?localizacion ?ambulancia ) ( paciente-en-localizacion ?localizacion ?paciente ) )', 'paciente-en-localizacion', 'types', 'precondition ( and ( ambulancia ?localizacion1 ?ambulancia ) ( ir ?localizacion1 ?localizacion2 ) )', 'paciente-en-localizacion', 'localizacion1 localizacion2 localizacion3 localizacion4-localizacion', 'types paciente', 'localizacion', 'paciente-en-localizacion', 'paciente-en-localizacion localizacion4 paciente2', 'paciente-en-localizacion', 'paciente-en-localizacion', 'ambulancia-en-localizacion localizacion1 ambulancia1', 'en', 'paciente', 'types paciente ambulancia localizacion hospital', 'paciente-en-localizacion', 'paciente-en-localizacion localizacion3 paciente1', 'paciente-en-localizacion', 'ir localizacion2 localizacion4', 'parameters', 'paciente-en-localizacion', 'precondition ( and ( ambulancia ?localizacion1 ?ambulancia ) ( ir ?localizacion1 ?localizacion2 ) )', 'paciente-en-localizacion', 'paciente1 paciente2-paciente', 'hospital-en-localizacion', 'en']\n",
            "['effect ( and ( ambulancia-en-localizacion ?localizacion ?ambulancia ) ( paciente-en-localizacion ?localizacion ?paciente ) )', 'paciente-en-localizacion', 'paciente-en-localizacion', 'paciente-en-localizacion', 'paciente-en-localizacion', 'effect ( and ( ambulancia-en-localizacion ?localizacion1 ?ambulancia ) ) ( ambulancia-en-localizacion ?localizacion2 ?ambulancia ) ( ir ?localizacion2 ?localizacion1 )', 'ir ?localizacion1 -localizacionocalizacion ?localizacion2 - localizacion', 'paciente1 paciente2 - paciente', 'effect (and ( not ( llena-ambulancia ?paciente ) ) ( ambulancia-vacia ) )', 'paciente', 'paciente-en-localizacion', 'ir ?localizacion1 -localizacionocalizacion ?localizacion2 - localizacion', 'hospital-en-localizacion', 'ir', 'paciente-en-localizacion localizacion4 paciente2', '?paciente - paciente', 'localizacion3', 'en', 'paciente-en-localizacion', 'precondition ( and ( ambulancia-vacia ) ( ambulancia-en-localizacion ?localizacion ?ambulancia ) )', 'localizacion1 localizacion2 localizacion3 localizacion4 - localizacion', 'paciente-en-localizacion localizacion3 paciente1', 'en', 'ambulancia-vacia', 'ir', 'paciente-en-localizacion', 'effect ( and ( not ( ambulancia-vacia ) ) ( llena-ambulancia ?paciente ) )', 'ambulancia-en-localizacion ?localizacion - localizacion ?ambulancia - ambulancia', 'ambulancia-vacia', 'paciente-en-localizacion ?localizacion - localizacion ?paciente - paciente', 'localizacion1 localizacion2 localizacion3 localizacion4 - localizacion', 'precondition ( and ( ambulancia ?localizacion1 ?ambulancia ) ( ir ?localizacion1 ?localizacion2 ) )', 'ambulancia-en-localizacion localizacion1 ambulancia1', 'en', 'paciente', 'ambulancia-en-localizacion localizacion1 ambulancia1', 'parameters', 'hospital1 - hospital', 'paciente-en-localizacion', 'paciente-en-localizacion', 'hospital1 - hospital', 'localizacion1', 'paciente-en-localizacion ?localizacion - localizacion ?paciente - paciente', 'ir localizacion1 localizacion2', 'ambulancia-en-localizacion', 'ir localizacion1 localizacion2', 'hospital-en-localizacion', 'paciente', 'hospital-en localizacion1', 'paciente1 paciente2 - paciente', 'ambulancia1 - ambulancia', 'effect', 'paciente-en-localizacion', 'en', 'hospital-en localizacion1', 'ambulancia1 - ambulancia', 'paciente-en-localizacion', 'paciente-en-localizacion', 'paciente-en-localizacion', 'ir ?localizacion1 -localizacionocalizacion ?localizacion2 - localizacion', 'paciente-en-localizacion', 'effect ( and ( ambulancia-en-localizacion ?localizacion1 ?ambulancia ) ) ( ambulancia-en-localizacion ?localizacion2 ?ambulancia ) ( ir ?localizacion2 ?localizacion1 )', 'types paciente', 'types', 'paciente-en-localizacion', 'hospital-en localizacion1', 'localizacion1 localizacion2 localizacion3 localizacion4 - localizacion', 'localizacion', 'en', 'ir localizacion1 localizacion2', 'paciente-en-localizacion', 'paciente-en-localizacion', 'paciente-en-localizacion', 'precondition ( and ( llena-ambulancia ?paciente ) ( ambulancia-en-localizacion ?localizacion ?ambulancia ) )', 'paciente-en-localizacion', 'paciente-en-localizacion', 'paciente-en-localizacion', 'paciente-en-localizacion', 'en', 'localizacion1 localizacion2 localizacion3 localizacion4 - localizacion', 'paciente-en-localizacion', '?paciente - paciente', 'paciente-en-localizacion', 'types paciente ambulancia localizacion hospital', 'ambulancia1 - ambulancia', 'types paciente ambulancia localizacion hospital', 'ambulancia1 - ambulancia', 'paciente-en-localizacion', 'types paciente ambulancia localizacion hospital', 'paciente-en-localizacion', 'localizacion1 localizacion2 localizacion3 localizacion4 - localizacion', 'localizacion', 'hospital1 - hospital', 'hospital-en-localizacion ?localizacion - localizacion ', 'effect ( and ( ambulancia-en-localizacion ?localizacion ?ambulancia ) ( paciente-en-localizacion ?localizacion ?paciente ) )', 'ambulancia-vacia', 'paciente-en-localizacion', 'ambulancia-vacia', 'effect ( and ( not ( ambulancia-vacia ) ) ( llena-ambulancia ?paciente ) )', 'paciente1 paciente2 - paciente', 'ir localizacion2 localizacion4', 'paciente-en-localizacion', 'paciente-en-localizacion localizacion4 paciente2', 'ambulancia-vacia', 'paciente-en-localizacion', 'paciente-en-localizacion localizacion4 paciente2', 'paciente-en-localizacion', 'paciente-en-localizacion', 'localizacion', 'types', '?ambulancia - ambulancia', 'hospital1 - hospital', 'hospital1 - hospital', 'paciente-en-localizacion', 'en', 'paciente-en-localizacion', 'paciente-en-localizacion', 'paciente1 paciente2 - paciente', 'ir localizacion1 localizacion2', 'ir localizacion2 localizacion4', 'paciente', 'precondition ( and ( ambulancia-en-localizacion ?localizacion ?ambulancia ) ( paciente-en-localizacion ?localizacion ?paciente ) )', 'effect (and ( not ( llena-ambulancia ?paciente ) ) ( ambulancia-vacia ) )', 'hospital1 - hospital', 'effect ( and ( ambulancia-en-localizacion ?localizacion1 ?ambulancia ) ) ( ambulancia-en-localizacion ?localizacion2 ?ambulancia ) ( ir ?localizacion2 ?localizacion1 )', 'ambulancia1 - ambulancia', 'paciente-en-localizacion localizacion4 paciente2', 'ambulancia1 - ambulancia', 'ambulancia-vacia', 'effect ( and ( ambulancia-en-localizacion ?localizacion ?ambulancia ) ( paciente-en-localizacion ?localizacion ?paciente ) )', 'paciente-en-localizacion', 'paciente-en-localizacion localizacion4 paciente2', 'paciente-en-localizacion', 'hospital-en localizacion1', 'localizacion1 localizacion2 localizacion3 localizacion4 - localizacion', 'hospital1 - hospital', 'effect ( and ( not ( ambulancia-vacia ) ) ( llena-ambulancia ?paciente ) )', 'localizacion', 'effect ( and ( ambulancia-en-localizacion ?localizacion ?ambulancia ) ( paciente-en-localizacion ?localizacion ?paciente ) )', 'ambulancia-vacia', 'ir ?localizacion1 -localizacionocalizacion ?localizacion2 - localizacion', 'paciente-en-localizacion', 'effect ( and ( ambulancia-en-localizacion ?localizacion ?ambulancia ) ( paciente-en-localizacion ?localizacion ?paciente ) )', 'paciente-en-localizacion localizacion4 paciente2', 'ambulancia1 - ambulancia', 'hospital-en localizacion1', 'ir localizacion2 localizacion4', 'effect ( and ( ambulancia-en-localizacion ?localizacion1 ?ambulancia ) ) ( ambulancia-en-localizacion ?localizacion2 ?ambulancia ) ( ir ?localizacion2 ?localizacion1 )', 'llena-ambulancia ?paciente - paciente', 'ir', 'paciente-en-localizacion', 'paciente-en-localizacion localizacion3 paciente1', 'paciente-en-localizacion', 'ambulancia-en-localizacion localizacion1 ambulancia1', 'en', 'paciente-en-localizacion', 'types', 'types paciente ambulancia localizacion hospital', 'localizacion', 'llena-ambulancia', 'localizacion1 localizacion2 localizacion3 localizacion4 - localizacion', 'paciente', 'types', 'hospital1 - hospital', 'localizacion1 localizacion2 localizacion3 localizacion4 - localizacion', 'ambulancia1 - ambulancia', 'paciente', 'hospital1 - hospital', 'localizacion', 'effect ( and ( not ( ambulancia-vacia ) ) ( llena-ambulancia ?paciente ) )', 'paciente-en-localizacion', 'effect', 'paciente-en-localizacion', 'effect ( and ( ambulancia-en-localizacion ?localizacion ?ambulancia ) ( paciente-en-localizacion ?localizacion ?paciente ) )', 'precondition ( and ( ambulancia-en-localizacion ?localizacion ?ambulancia ) ( paciente-en-localizacion ?localizacion ?paciente ) )', 'paciente-en-localizacion', 'types', 'precondition ( and ( ambulancia ?localizacion1 ?ambulancia ) ( ir ?localizacion1 ?localizacion2 ) )', 'paciente-en-localizacion', 'localizacion1 localizacion2 localizacion3 localizacion4 - localizacion', 'types paciente', 'localizacion', 'paciente-en-localizacion', 'paciente-en-localizacion localizacion4 paciente2', 'paciente-en-localizacion', 'paciente-en-localizacion', 'ambulancia-en-localizacion localizacion1 ambulancia1', 'en', 'paciente', 'types paciente ambulancia localizacion hospital', 'paciente-en-localizacion', 'paciente-en-localizacion localizacion3 paciente1', 'paciente-en-localizacion', 'ir localizacion2 localizacion4', 'parameters', 'paciente-en-localizacion', 'precondition ( and ( ambulancia ?localizacion1 ?ambulancia ) ( ir ?localizacion1 ?localizacion2 ) )', 'paciente-en-localizacion', 'paciente1 paciente2 - paciente', 'hospital-en-localizacion', 'en']\n",
            "158\n",
            "201\n",
            "La exactitud es de: 0.79\n"
          ]
        }
      ]
    },
    {
      "cell_type": "code",
      "source": [
        "translate('el paciente se encuentra en localización')"
      ],
      "metadata": {
        "colab": {
          "base_uri": "https://localhost:8080/",
          "height": 35
        },
        "id": "QEba1mNJkNMH",
        "outputId": "89d3957b-1cc1-4103-db41-59f09072a6f6"
      },
      "execution_count": 291,
      "outputs": [
        {
          "output_type": "execute_result",
          "data": {
            "text/plain": [
              "'paciente-en-localizacion'"
            ],
            "application/vnd.google.colaboratory.intrinsic+json": {
              "type": "string"
            }
          },
          "metadata": {},
          "execution_count": 291
        }
      ]
    }
  ]
}